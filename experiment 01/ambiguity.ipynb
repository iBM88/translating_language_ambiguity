{
 "cells": [
  {
   "cell_type": "code",
   "execution_count": 1,
   "metadata": {
    "colab": {
     "base_uri": "https://localhost:8080/"
    },
    "id": "rQU86uhe0PEr",
    "outputId": "7b75e05c-61e7-4a94-cfb7-eca1dbca3589"
   },
   "outputs": [
    {
     "name": "stdout",
     "output_type": "stream",
     "text": [
      "Defaulting to user installation because normal site-packages is not writeable\n",
      "Requirement already satisfied: kneed in /gpfs/home1/bmehrparvar/.local/lib/python3.10/site-packages (0.8.5)\n",
      "Requirement already satisfied: numpy>=1.14.2 in /gpfs/admin/_hpc/sw/arch/INTEL-AVX512/RHEL8/EB_production/2022/software/SciPy-bundle/2022.05-foss-2022a/lib/python3.10/site-packages (from kneed) (1.22.3)\n",
      "Requirement already satisfied: scipy>=1.0.0 in /gpfs/admin/_hpc/sw/arch/INTEL-AVX512/RHEL8/EB_production/2022/software/SciPy-bundle/2022.05-foss-2022a/lib/python3.10/site-packages (from kneed) (1.8.1)\n",
      "\u001b[33mWARNING: You are using pip version 22.0.4; however, version 24.0 is available.\n",
      "You should consider upgrading via the '/sw/arch/RHEL8/EB_production/2022/software/Python/3.10.4-GCCcore-11.3.0/bin/python -m pip install --upgrade pip' command.\u001b[0m\u001b[33m\n",
      "\u001b[0mNote: you may need to restart the kernel to use updated packages.\n"
     ]
    }
   ],
   "source": [
    "%pip install kneed"
   ]
  },
  {
   "cell_type": "code",
   "execution_count": 2,
   "metadata": {
    "colab": {
     "base_uri": "https://localhost:8080/"
    },
    "id": "eaD2EDncx7oa",
    "outputId": "4ec2f827-3599-4ddf-9bed-b6f48657e136"
   },
   "outputs": [
    {
     "name": "stdout",
     "output_type": "stream",
     "text": [
      "         0  1        2         3         4\n",
      "0        0  2   German  0.006339  0.007812\n",
      "1        1  2   German  0.006247  0.007812\n",
      "2        2  2   German  0.006243  0.007812\n",
      "3        3  2   German  0.006420  0.007812\n",
      "4        4  2   German  0.005457  0.007812\n",
      "...    ... ..      ...       ...       ...\n",
      "46447  469  0  Chinese  0.004766  0.054688\n",
      "46448  470  0  Chinese  0.005004  0.054688\n",
      "46449  471  0  Chinese  0.005675  0.054688\n",
      "46450  472  0  Chinese  0.006226  0.054688\n",
      "46451  473  0  Chinese  0.006332  0.054688\n",
      "\n",
      "[46452 rows x 5 columns]\n",
      "      ID  Type                                             Source\n",
      "0      0     2  Andrei picked up the chair or the bag and the ...\n",
      "1      1     2  Danny held the chair or the bag and the telescope\n",
      "2      2     2  Danny moved the chair or the bag and the teles...\n",
      "3      3     2  Andrei held the telescope or the chair and the...\n",
      "4      4     2    Andrei and Danny moved the yellow bag and chair\n",
      "..   ...   ...                                                ...\n",
      "469  469     0       Andrei and Danny each picked up a yellow bag\n",
      "470  470     0    Andrei approached Danny; Danny held a telescope\n",
      "471  471     0  Andrei picked up the bag and the chair; the ch...\n",
      "472  472     0  Danny approached Andrei; he also approached Ye...\n",
      "473  473     0  Andrei held the bag and the chair; the chair w...\n",
      "\n",
      "[474 rows x 3 columns]\n"
     ]
    }
   ],
   "source": [
    "import pandas as pd\n",
    "csv_file_path = 'elbow_avg_output_sample0.csv'\n",
    "data = pd.read_csv(csv_file_path, header=0)\n",
    "print(data)\n",
    "csv_file_path = 'init_input_all.csv'\n",
    "sentences = pd.read_csv(csv_file_path, header=0)\n",
    "print(sentences)"
   ]
  },
  {
   "cell_type": "code",
   "execution_count": 3,
   "metadata": {
    "colab": {
     "base_uri": "https://localhost:8080/",
     "height": 1000
    },
    "id": "NHpy4NqPz_Lq",
    "outputId": "dc5105a3-3764-4e04-dd4b-18536db5da53"
   },
   "outputs": [
    {
     "name": "stdout",
     "output_type": "stream",
     "text": [
      "[['0' '2' 'German' '0.0390625' '0.004826358' '2.8449212605534058']\n",
      " ['0' '2' 'Greek' '0.03125' '0.0050666444' '2.483503626675396']\n",
      " ['0' '2' 'Spanish' '0.0234375' '0.005459119' '2.0720219980329957']\n",
      " ...\n",
      " ['473' '0' 'Russian' '0.03125' '0.0054762126' '2.38882788933731']\n",
      " ['473' '0' 'Turkish' '0.015625' '0.0066272183' '1.535480745152257']\n",
      " ['473' '0' 'Chinese' '0.015625' '0.0067219124' '1.5246269377063748']]\n"
     ]
    }
   ],
   "source": [
    "import kneed\n",
    "import numpy as np\n",
    "import matplotlib.pyplot as plt\n",
    "\n",
    "results = np.empty((0, 6))\n",
    "for id in data['0'].unique():\n",
    "    for lang in data['2'].unique():\n",
    "      filter = data[(data['0']==id) & (data['2']==lang)]\n",
    "      t = filter['1'].unique()[0]\n",
    "      e = filter['3']\n",
    "      c = filter['4']\n",
    "      kneedle = kneed.KneeLocator(c, e, S=1.0, curve=\"convex\", direction=\"decreasing\")\n",
    "      x = kneedle.knee\n",
    "      y = kneedle.knee_y\n",
    "      try:\n",
    "        r = 1 / (kneedle.knee_y / kneedle.knee) ** 0.5\n",
    "      except Exception as e:\n",
    "        r = 0\n",
    "      new_row = np.array([id, t, lang, x, y, r])\n",
    "      results = np.append(results, [new_row], axis=0)\n",
    "\n",
    "      if id == 0:\n",
    "        if False: #lang == 'Persian':\n",
    "          kneedle.plot_knee_normalized(title='Knee chart for sentence %s (%s)\\nknee=(%s,%s)' % (id, lang, x, y))\n",
    "          plt.savefig('knee_%s_%s.png' % (id, lang))\n",
    "print(results)"
   ]
  },
  {
   "cell_type": "code",
   "execution_count": 4,
   "metadata": {
    "colab": {
     "base_uri": "https://localhost:8080/",
     "height": 472
    },
    "id": "0TWZNwvt8NUm",
    "outputId": "cc7e4b16-760c-4d34-dd00-1984e9a5c421"
   },
   "outputs": [],
   "source": [
    "import pandas as pd\n",
    "import matplotlib.colors as mcolors\n",
    "\n",
    "plt.clf()\n",
    "\n",
    "df = pd.DataFrame(results)\n",
    "df[0] = df[0].astype(int)\n",
    "df[1] = df[1].astype(int)\n",
    "df[2] = df[2].astype(str)\n",
    "df[3] = df[3].astype(float)\n",
    "df[4] = df[4].astype(float)\n",
    "df[5] = df[5].astype(float)\n",
    "\n",
    "# Get unique categories\n",
    "unique_categories = np.unique(df[2].unique())\n",
    "num_categories = len(unique_categories)\n",
    "\n",
    "# Define a colormap with enough distinct colors\n",
    "cmap = plt.get_cmap('tab10', num_categories)\n",
    "norm = mcolors.Normalize(vmin=0, vmax=num_categories - 1)\n",
    "sm = plt.cm.ScalarMappable(cmap=cmap, norm=norm)\n",
    "sm.set_array([])\n",
    "\n",
    "scatter_plots = {}\n",
    "for i, lang in enumerate(df[2].unique()):\n",
    "    df2 = df[(df[2] == lang)]\n",
    "    data = {'X': df2[3].values,\n",
    "            'Y': df2[4].values}\n",
    "    df2 = pd.DataFrame(data)\n",
    "    scatter_plots[lang] = plt.scatter(df2['X'], df2['Y'], marker='o', color=cmap(i), label=lang)\n",
    "for i, label in enumerate(df[0]):\n",
    "    plt.annotate(label, (df[3][i], df[4][i]), textcoords=\"offset points\",\n",
    "                 xytext=(5,5), ha='center')\n",
    "plt.xlabel('Knee Complexity')\n",
    "plt.ylabel('Knee error')\n",
    "plt.title('Knee points')\n",
    "plt.legend(handles=[scatter_plots[cat] for cat in unique_categories])\n",
    "plt.grid(True)\n",
    "plt.savefig('knee_scatter.png')\n",
    "plt.show()"
   ]
  },
  {
   "cell_type": "code",
   "execution_count": 5,
   "metadata": {
    "colab": {
     "base_uri": "https://localhost:8080/"
    },
    "id": "HXDlaEbCH7YQ",
    "outputId": "61a0b9e7-0dde-45b4-a005-ac8ad1164819"
   },
   "outputs": [
    {
     "name": "stdout",
     "output_type": "stream",
     "text": [
      "        0  1         2         3         4         5         6\n",
      "0       0  2    German  0.039062  0.004826  2.844921  0.977906\n",
      "1       0  2     Greek  0.031250  0.005067  2.483504  0.981754\n",
      "2       0  2   Spanish  0.023438  0.005459  2.072022  0.985511\n",
      "3       0  2   Persian  0.007812  0.006292  1.114314  0.992948\n",
      "4       0  2    French  0.007812  0.006799  1.071982  0.992694\n",
      "...   ... ..       ...       ...       ...       ...       ...\n",
      "6631  473  0     Dutch  0.031250  0.006047  2.273273  0.981271\n",
      "6632  473  0  Romanian  0.031250  0.006052  2.272369  0.981268\n",
      "6633  473  0   Russian  0.031250  0.005476  2.388828  0.981552\n",
      "6634  473  0   Turkish  0.015625  0.006627  1.535481  0.988864\n",
      "6635  473  0   Chinese  0.015625  0.006722  1.524627  0.988817\n",
      "\n",
      "[6636 rows x 7 columns]\n"
     ]
    }
   ],
   "source": [
    "df[6] = np.sqrt((1-df[3]) * (1-df[4]))\n",
    "print(df)"
   ]
  },
  {
   "cell_type": "code",
   "execution_count": 7,
   "metadata": {
    "colab": {
     "base_uri": "https://localhost:8080/"
    },
    "id": "XDfBdGdGIVpQ",
    "outputId": "4da32e5d-48dd-473e-9ab4-15d145a8397e"
   },
   "outputs": [
    {
     "name": "stderr",
     "output_type": "stream",
     "text": [
      "/scratch-local/bmehrparvar.5983040/ipykernel_1544898/4164460169.py:4: SettingWithCopyWarning: \n",
      "A value is trying to be set on a copy of a slice from a DataFrame.\n",
      "Try using .loc[row_indexer,col_indexer] = value instead\n",
      "\n",
      "See the caveats in the documentation: https://pandas.pydata.org/pandas-docs/stable/user_guide/indexing.html#returning-a-view-versus-a-copy\n",
      "  filter[7]=2*np.abs(filter[5]-0.5)\n"
     ]
    }
   ],
   "source": [
    "alphas = np.empty((0,5))\n",
    "for id in df[0].unique():\n",
    "  filter = df[df[0]==id]\n",
    "  filter[7]=2*np.abs(filter[5]-0.5)\n",
    "  filter = filter.reset_index(drop=True)\n",
    "  n=len(filter[2].unique())\n",
    "  mx = np.empty((n,n))\n",
    "  for i in range(n):\n",
    "    for j in range(n):\n",
    "      mx[i,j]=np.abs(filter[5][i]-filter[5][j])\n",
    "  term1 = 1 - np.sum(filter[5]) / n\n",
    "  term2 = np.sum(mx) / (n**2)\n",
    "  alpha = 0.5 * term1 + 0.5 * term2\n",
    "  alphas = np.vstack((alphas, [id, filter[1][0], term1, term2, alpha]))\n",
    "df_alphas = pd.DataFrame(alphas)\n",
    "df_alphas[0] = df_alphas[0].astype(int)\n",
    "df_alphas[1] = df_alphas[1].astype(int)\n",
    "df_alphas[2] = df_alphas[2].astype(float)\n",
    "df_alphas[3] = df_alphas[3].astype(float)\n",
    "df_alphas[4] = df_alphas[4].astype(float)"
   ]
  },
  {
   "cell_type": "code",
   "execution_count": 8,
   "metadata": {
    "colab": {
     "base_uri": "https://localhost:8080/"
    },
    "id": "-6BBakYUlUjL",
    "outputId": "7068f59d-d915-45e1-a379-fa135828c70d"
   },
   "outputs": [
    {
     "name": "stdout",
     "output_type": "stream",
     "text": [
      "      ID  type     term1     term2     alpha  \\\n",
      "0      0     2 -0.715484  0.862089  0.073302   \n",
      "1      1     2 -0.885164  0.704113 -0.090526   \n",
      "2      2     2 -0.957343  0.825653 -0.065845   \n",
      "3      3     2 -0.846041  0.689026 -0.078507   \n",
      "4      4     2 -1.213531  0.837247 -0.188142   \n",
      "..   ...   ...       ...       ...       ...   \n",
      "469  469     0 -0.876034  1.127153  0.125559   \n",
      "470  470     0 -0.617195  0.529961 -0.043617   \n",
      "471  471     0 -1.098233  0.571645 -0.263294   \n",
      "472  472     0 -0.509381  0.735459  0.113039   \n",
      "473  473     0 -1.080198  0.570384 -0.254907   \n",
      "\n",
      "                                              sentence  \n",
      "0    Andrei picked up the chair or the bag and the ...  \n",
      "1    Danny held the chair or the bag and the telescope  \n",
      "2    Danny moved the chair or the bag and the teles...  \n",
      "3    Andrei held the telescope or the chair and the...  \n",
      "4      Andrei and Danny moved the yellow bag and chair  \n",
      "..                                                 ...  \n",
      "469       Andrei and Danny each picked up a yellow bag  \n",
      "470    Andrei approached Danny; Danny held a telescope  \n",
      "471  Andrei picked up the bag and the chair; the ch...  \n",
      "472  Danny approached Andrei; he also approached Ye...  \n",
      "473  Andrei held the bag and the chair; the chair w...  \n",
      "\n",
      "[474 rows x 6 columns]\n"
     ]
    }
   ],
   "source": [
    "merged_df = pd.merge(df_alphas, sentences, left_on=0, right_on='ID')\n",
    "merged_df = merged_df.loc[:,[0,1,2,3,4,'Source']]\n",
    "merged_df.columns = ['ID', 'type', 'term1', 'term2', 'alpha', 'sentence']\n",
    "print(merged_df)\n",
    "merged_df.to_csv('alphas_avg_output_sample0_curve.csv', index=False)"
   ]
  }
 ],
 "metadata": {
  "colab": {
   "provenance": []
  },
  "kernelspec": {
   "display_name": "Python 3 (ipykernel)",
   "language": "python",
   "name": "python3"
  },
  "language_info": {
   "codemirror_mode": {
    "name": "ipython",
    "version": 3
   },
   "file_extension": ".py",
   "mimetype": "text/x-python",
   "name": "python",
   "nbconvert_exporter": "python",
   "pygments_lexer": "ipython3",
   "version": "3.10.4"
  }
 },
 "nbformat": 4,
 "nbformat_minor": 4
}
