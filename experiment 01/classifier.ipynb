{
 "cells": [
  {
   "cell_type": "code",
   "execution_count": 1,
   "id": "351b8bbc-92ca-4f4e-af36-6ed628c2fd1f",
   "metadata": {},
   "outputs": [],
   "source": [
    "# %pip install scikit-learn\n",
    "\n",
    "from sklearn.model_selection import KFold\n",
    "from sklearn.neural_network import MLPClassifier\n",
    "from sklearn.metrics import accuracy_score\n",
    "from sklearn.preprocessing import StandardScaler\n",
    "\n",
    "import numpy as np\n",
    "import pandas as pd\n",
    "import matplotlib.pyplot as plt"
   ]
  },
  {
   "cell_type": "code",
   "execution_count": 2,
   "id": "1dc3a212-7fc9-4344-89c3-9563091ce4a6",
   "metadata": {},
   "outputs": [],
   "source": [
    "# Initialize list to store misclassified items\n",
    "misclassified_items = []\n",
    "\n",
    "# Initialize lists to store error for each fold\n",
    "iteration_errors = []\n",
    "\n",
    "# Initialize 10-fold cross-validation\n",
    "kf = KFold(n_splits=3, shuffle=True)"
   ]
  },
  {
   "cell_type": "code",
   "execution_count": 3,
   "id": "683064f2-0a3c-4706-afe9-c9e5a9cd3815",
   "metadata": {},
   "outputs": [
    {
     "ename": "KeyError",
     "evalue": "\"None of [Index(['1.1'], dtype='object')] are in the [columns]\"",
     "output_type": "error",
     "traceback": [
      "\u001b[0;31m---------------------------------------------------------------------------\u001b[0m",
      "\u001b[0;31mKeyError\u001b[0m                                  Traceback (most recent call last)",
      "Cell \u001b[0;32mIn [3], line 11\u001b[0m\n\u001b[1;32m      9\u001b[0m scaler \u001b[38;5;241m=\u001b[39m StandardScaler()\n\u001b[1;32m     10\u001b[0m X_train \u001b[38;5;241m=\u001b[39m pd\u001b[38;5;241m.\u001b[39mDataFrame(scaler\u001b[38;5;241m.\u001b[39mfit_transform(X_train), columns\u001b[38;5;241m=\u001b[39mX_train\u001b[38;5;241m.\u001b[39mcolumns)\n\u001b[0;32m---> 11\u001b[0m y_train \u001b[38;5;241m=\u001b[39m \u001b[43mdf\u001b[49m\u001b[43m[\u001b[49m\u001b[43m[\u001b[49m\u001b[38;5;124;43m'\u001b[39;49m\u001b[38;5;124;43m1.1\u001b[39;49m\u001b[38;5;124;43m'\u001b[39;49m\u001b[43m]\u001b[49m\u001b[43m]\u001b[49m\u001b[38;5;241m.\u001b[39mcopy()\n\u001b[1;32m     12\u001b[0m \u001b[38;5;66;03m# y_train['1.1'] = y_train['1.1'].replace({'True': 1, 'False': 0})\u001b[39;00m\n\u001b[1;32m     13\u001b[0m \u001b[38;5;28mprint\u001b[39m(y_train\u001b[38;5;241m.\u001b[39mdtypes)\n",
      "File \u001b[0;32m/sw/arch/RHEL8/EB_production/2022/software/SciPy-bundle/2022.05-foss-2022a/lib/python3.10/site-packages/pandas/core/frame.py:3511\u001b[0m, in \u001b[0;36mDataFrame.__getitem__\u001b[0;34m(self, key)\u001b[0m\n\u001b[1;32m   3509\u001b[0m     \u001b[38;5;28;01mif\u001b[39;00m is_iterator(key):\n\u001b[1;32m   3510\u001b[0m         key \u001b[38;5;241m=\u001b[39m \u001b[38;5;28mlist\u001b[39m(key)\n\u001b[0;32m-> 3511\u001b[0m     indexer \u001b[38;5;241m=\u001b[39m \u001b[38;5;28;43mself\u001b[39;49m\u001b[38;5;241;43m.\u001b[39;49m\u001b[43mcolumns\u001b[49m\u001b[38;5;241;43m.\u001b[39;49m\u001b[43m_get_indexer_strict\u001b[49m\u001b[43m(\u001b[49m\u001b[43mkey\u001b[49m\u001b[43m,\u001b[49m\u001b[43m \u001b[49m\u001b[38;5;124;43m\"\u001b[39;49m\u001b[38;5;124;43mcolumns\u001b[39;49m\u001b[38;5;124;43m\"\u001b[39;49m\u001b[43m)\u001b[49m[\u001b[38;5;241m1\u001b[39m]\n\u001b[1;32m   3513\u001b[0m \u001b[38;5;66;03m# take() does not accept boolean indexers\u001b[39;00m\n\u001b[1;32m   3514\u001b[0m \u001b[38;5;28;01mif\u001b[39;00m \u001b[38;5;28mgetattr\u001b[39m(indexer, \u001b[38;5;124m\"\u001b[39m\u001b[38;5;124mdtype\u001b[39m\u001b[38;5;124m\"\u001b[39m, \u001b[38;5;28;01mNone\u001b[39;00m) \u001b[38;5;241m==\u001b[39m \u001b[38;5;28mbool\u001b[39m:\n",
      "File \u001b[0;32m/sw/arch/RHEL8/EB_production/2022/software/SciPy-bundle/2022.05-foss-2022a/lib/python3.10/site-packages/pandas/core/indexes/base.py:5782\u001b[0m, in \u001b[0;36mIndex._get_indexer_strict\u001b[0;34m(self, key, axis_name)\u001b[0m\n\u001b[1;32m   5779\u001b[0m \u001b[38;5;28;01melse\u001b[39;00m:\n\u001b[1;32m   5780\u001b[0m     keyarr, indexer, new_indexer \u001b[38;5;241m=\u001b[39m \u001b[38;5;28mself\u001b[39m\u001b[38;5;241m.\u001b[39m_reindex_non_unique(keyarr)\n\u001b[0;32m-> 5782\u001b[0m \u001b[38;5;28;43mself\u001b[39;49m\u001b[38;5;241;43m.\u001b[39;49m\u001b[43m_raise_if_missing\u001b[49m\u001b[43m(\u001b[49m\u001b[43mkeyarr\u001b[49m\u001b[43m,\u001b[49m\u001b[43m \u001b[49m\u001b[43mindexer\u001b[49m\u001b[43m,\u001b[49m\u001b[43m \u001b[49m\u001b[43maxis_name\u001b[49m\u001b[43m)\u001b[49m\n\u001b[1;32m   5784\u001b[0m keyarr \u001b[38;5;241m=\u001b[39m \u001b[38;5;28mself\u001b[39m\u001b[38;5;241m.\u001b[39mtake(indexer)\n\u001b[1;32m   5785\u001b[0m \u001b[38;5;28;01mif\u001b[39;00m \u001b[38;5;28misinstance\u001b[39m(key, Index):\n\u001b[1;32m   5786\u001b[0m     \u001b[38;5;66;03m# GH 42790 - Preserve name from an Index\u001b[39;00m\n",
      "File \u001b[0;32m/sw/arch/RHEL8/EB_production/2022/software/SciPy-bundle/2022.05-foss-2022a/lib/python3.10/site-packages/pandas/core/indexes/base.py:5842\u001b[0m, in \u001b[0;36mIndex._raise_if_missing\u001b[0;34m(self, key, indexer, axis_name)\u001b[0m\n\u001b[1;32m   5840\u001b[0m     \u001b[38;5;28;01mif\u001b[39;00m use_interval_msg:\n\u001b[1;32m   5841\u001b[0m         key \u001b[38;5;241m=\u001b[39m \u001b[38;5;28mlist\u001b[39m(key)\n\u001b[0;32m-> 5842\u001b[0m     \u001b[38;5;28;01mraise\u001b[39;00m \u001b[38;5;167;01mKeyError\u001b[39;00m(\u001b[38;5;124mf\u001b[39m\u001b[38;5;124m\"\u001b[39m\u001b[38;5;124mNone of [\u001b[39m\u001b[38;5;132;01m{\u001b[39;00mkey\u001b[38;5;132;01m}\u001b[39;00m\u001b[38;5;124m] are in the [\u001b[39m\u001b[38;5;132;01m{\u001b[39;00maxis_name\u001b[38;5;132;01m}\u001b[39;00m\u001b[38;5;124m]\u001b[39m\u001b[38;5;124m\"\u001b[39m)\n\u001b[1;32m   5844\u001b[0m not_found \u001b[38;5;241m=\u001b[39m \u001b[38;5;28mlist\u001b[39m(ensure_index(key)[missing_mask\u001b[38;5;241m.\u001b[39mnonzero()[\u001b[38;5;241m0\u001b[39m]]\u001b[38;5;241m.\u001b[39munique())\n\u001b[1;32m   5845\u001b[0m \u001b[38;5;28;01mraise\u001b[39;00m \u001b[38;5;167;01mKeyError\u001b[39;00m(\u001b[38;5;124mf\u001b[39m\u001b[38;5;124m\"\u001b[39m\u001b[38;5;132;01m{\u001b[39;00mnot_found\u001b[38;5;132;01m}\u001b[39;00m\u001b[38;5;124m not in index\u001b[39m\u001b[38;5;124m\"\u001b[39m)\n",
      "\u001b[0;31mKeyError\u001b[0m: \"None of [Index(['1.1'], dtype='object')] are in the [columns]\""
     ]
    }
   ],
   "source": [
    "# Replace 'file_path.csv' with the path to your CSV file\n",
    "# file_path = 'elbow_avg_output_sample0_raw.csv'\n",
    "file_path = 'elbow_avg_output_sample0_raw_best.csv'\n",
    "\n",
    "# Read the CSV file into a DataFrame\n",
    "df = pd.read_csv(file_path)\n",
    "\n",
    "X_train = df.iloc[:,3:].copy()\n",
    "scaler = StandardScaler()\n",
    "X_train = pd.DataFrame(scaler.fit_transform(X_train), columns=X_train.columns)\n",
    "y_train = df[['1.1']].copy()\n",
    "# y_train['1.1'] = y_train['1.1'].replace({'True': 1, 'False': 0})\n",
    "print(y_train.dtypes)"
   ]
  },
  {
   "cell_type": "code",
   "execution_count": null,
   "id": "98f32775-8bf9-4cf6-939c-72ba807d9ac8",
   "metadata": {},
   "outputs": [],
   "source": [
    "print(df.shape)\n",
    "print(X_train.shape)\n",
    "print(y_train.shape)"
   ]
  },
  {
   "cell_type": "code",
   "execution_count": null,
   "id": "921fc217-a75d-4ec9-a094-71878f352e96",
   "metadata": {},
   "outputs": [],
   "source": [
    "# Create a new figure\n",
    "plt.figure()\n",
    "    \n",
    "for fold, (train_index, test_index) in enumerate(kf.split(X_train)):\n",
    "    # Split data into training and test sets for this fold\n",
    "    X_train_fold, X_test_fold = X_train.iloc[train_index,:], X_train.iloc[test_index,:]\n",
    "    y_train_fold, y_test_fold = y_train.iloc[train_index,:], y_train.iloc[test_index,:]\n",
    "    \n",
    "    X_train_fold = X_train_fold.values; X_test_fold = X_test_fold.values\n",
    "    y_train_fold = y_train_fold.values; y_test_fold = y_test_fold.values\n",
    "    \n",
    "    # Train neural network classifier\n",
    "    clf = MLPClassifier(hidden_layer_sizes=(10,), max_iter=2000)\n",
    "    clf.fit(X_train_fold, y_train_fold)\n",
    "    \n",
    "    # Get error across iterations\n",
    "    iteration_errors_fold = clf.loss_curve_\n",
    "    iteration_errors.append(iteration_errors_fold)\n",
    "    \n",
    "    # Evaluate model on test set\n",
    "    y_pred_fold = clf.predict(X_test_fold)\n",
    "    \n",
    "    # Compute accuracy for this fold\n",
    "    accuracy_fold = accuracy_score(y_test_fold, y_pred_fold)\n",
    "    print(f'Accuracy for fold: {accuracy_fold}')\n",
    "    \n",
    "    # Identify misclassified items\n",
    "    misclassified_indices = (y_pred_fold != np.concatenate(y_test_fold).ravel())\n",
    "    # misclassified_items_fold = X_test_fold[misclassified_indices]\n",
    "    \n",
    "    # Aggregate misclassified items\n",
    "    misclassified_items.extend(df.iloc[test_index[misclassified_indices],0].values)\n",
    "    \n",
    "    # Plot error across iterations for this fold\n",
    "    plt.plot(iteration_errors_fold, label=f'Fold {fold+1}')\n",
    "    \n",
    "# Plot settings\n",
    "plt.title('Error Across Iterations for Each Fold')\n",
    "plt.xlabel('Iteration')\n",
    "plt.ylabel('Error')\n",
    "plt.legend()\n",
    "plt.show()\n",
    "plt.savefig('classification_error.png')"
   ]
  },
  {
   "cell_type": "code",
   "execution_count": null,
   "id": "77e9146c-eb37-4f78-8399-68e925e8213c",
   "metadata": {},
   "outputs": [],
   "source": [
    "print(f'{len(misclassified_items)} misclassified items.')\n",
    "print(f'%{len(set(misclassified_items))/len(df)} of data is misclassified.')\n",
    "mis = np.sort(misclassified_items)\n",
    "print(mis)"
   ]
  },
  {
   "cell_type": "code",
   "execution_count": null,
   "id": "5d526d94-e4be-4a5d-8b84-dc9ea9b1ab92",
   "metadata": {},
   "outputs": [],
   "source": [
    "file_path = 'language_translate_fw_output_sample0.csv'\n",
    "df_fw = pd.read_csv(file_path)\n",
    "\n",
    "file_path = 'language_translate_bw_output_sample0.csv'\n",
    "df_bw = pd.read_csv(file_path)\n",
    "\n",
    "df_concatenated = pd.concat([df_fw, df_bw], axis=1).iloc[:, [0, 1, 2, 3, 4, 5, 11]]\n",
    "df_filtered = df_concatenated[df_concatenated['0'].isin(mis)]\n",
    "df_filtered.to_csv('misclassified_all.csv', encoding='utf-8', index=False)\n",
    "\n",
    "df_filtered_fa = df_filtered[df_filtered['2'] == 'fa']\n",
    "df_filtered_fa.to_csv('misclassified_persian.csv', encoding='utf-8', index=False)\n",
    "\n",
    "df_filtered_it = df_filtered[df_filtered['2'] == 'it']\n",
    "df_filtered_it.to_csv('misclassified_italian.csv', encoding='utf-8', index=False)"
   ]
  }
 ],
 "metadata": {
  "kernelspec": {
   "display_name": "Python 3 (ipykernel)",
   "language": "python",
   "name": "python3"
  },
  "language_info": {
   "codemirror_mode": {
    "name": "ipython",
    "version": 3
   },
   "file_extension": ".py",
   "mimetype": "text/x-python",
   "name": "python",
   "nbconvert_exporter": "python",
   "pygments_lexer": "ipython3",
   "version": "3.10.4"
  }
 },
 "nbformat": 4,
 "nbformat_minor": 5
}
