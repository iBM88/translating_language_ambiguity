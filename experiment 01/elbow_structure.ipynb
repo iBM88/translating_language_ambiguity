{
 "cells": [
  {
   "cell_type": "code",
   "execution_count": 2,
   "id": "3218284b-c7c2-4198-af5e-df00b4896919",
   "metadata": {},
   "outputs": [],
   "source": [
    "import numpy as np\n",
    "import pandas as pd\n",
    "\n",
    "file_path = 'elbow_avg_output_sample0_raw.csv'\n",
    "\n",
    "# Read the CSV file into a DataFrame\n",
    "df = pd.read_csv(file_path)\n",
    "\n",
    "langs = 14\n",
    "levels = 7"
   ]
  },
  {
   "cell_type": "code",
   "execution_count": 10,
   "id": "c6b914ce-1e3c-462f-8593-932aebcf259a",
   "metadata": {},
   "outputs": [
    {
     "name": "stdout",
     "output_type": "stream",
     "text": [
      "(474, 177)\n"
     ]
    }
   ],
   "source": [
    "df_new = pd.DataFrame()\n",
    "for index, r in df.iterrows():\n",
    "    row = []\n",
    "    for l in range(langs):\n",
    "        temp = r[3+l*levels:3+l*levels+levels].values\n",
    "        temp = temp[:-1] - temp[1:]\n",
    "        row = np.concatenate((row,temp))\n",
    "    row2 = []\n",
    "    for v in range(levels):\n",
    "        temp = []\n",
    "        for l in range(langs-1):\n",
    "            item = r[3+l*levels+v] - r[3+(l+1)*levels+v]\n",
    "            temp = np.concatenate((temp,[item]))\n",
    "        row2 = np.concatenate((row2,temp))\n",
    "    new_row_df = pd.DataFrame(np.concatenate((r[0:2].values,row,row2)))\n",
    "    df_new = pd.concat([df_new, new_row_df.T], ignore_index=True)\n",
    "df_new[0] = df_new[0].astype(int)\n",
    "df_new[1] = df_new[1].astype(int)\n",
    "print(df_new.shape)"
   ]
  },
  {
   "cell_type": "code",
   "execution_count": 12,
   "id": "adc9016d-b028-49cf-9b3d-60f8971e2e93",
   "metadata": {},
   "outputs": [
    {
     "name": "stdout",
     "output_type": "stream",
     "text": [
      "     0    1         2         3         4         5         6         7    \\\n",
      "0      0    2  0.000167  0.000395  0.000282 -0.000080  0.000200 -0.001359   \n",
      "1      1    2  0.000346  0.000164  0.000223  0.000053  0.000252 -0.001163   \n",
      "2      2    2  0.000305  0.000231  0.000153  0.000088  0.000244 -0.001232   \n",
      "3      3    2  0.000291  0.000217  0.000322 -0.000040  0.000203 -0.001015   \n",
      "4      4    2 -0.000124 -0.000021  0.000486  0.000143  0.000012 -0.000943   \n",
      "..   ...  ...       ...       ...       ...       ...       ...       ...   \n",
      "469  469    0 -0.000014  0.000085  0.000325  0.000194  0.000063 -0.000927   \n",
      "470  470    0  0.000276 -0.000203  0.000301  0.000237  0.000128 -0.001601   \n",
      "471  471    0  0.000223 -0.000014  0.000622  0.000002  0.000253 -0.001810   \n",
      "472  472    0  0.000101 -0.000110  0.000485  0.000211  0.000085 -0.002774   \n",
      "473  473    0  0.000222 -0.000187  0.000685  0.000057  0.000202 -0.001437   \n",
      "\n",
      "          8         9    ...       167       168       169       170  \\\n",
      "0    0.000142  0.000204  ...  0.001098 -0.000948 -0.000351 -0.000540   \n",
      "1    0.000234  0.000162  ...  0.000437 -0.000267 -0.000525 -0.000618   \n",
      "2    0.000276  0.000111  ...  0.000067 -0.000382  0.000032 -0.000827   \n",
      "3    0.000129  0.000189  ...  0.001068 -0.000949 -0.000339 -0.000089   \n",
      "4    0.000221  0.000090  ... -0.000365  0.000644  0.000104 -0.000243   \n",
      "..        ...       ...  ...       ...       ...       ...       ...   \n",
      "469  0.000163  0.000091  ... -0.000008  0.000083 -0.000409  0.000339   \n",
      "470 -0.000036  0.000071  ...  0.000129  0.000212 -0.000429 -0.000571   \n",
      "471  0.000246  0.000004  ...  0.000734 -0.001029  0.000411  0.000088   \n",
      "472 -0.000145 -0.000061  ... -0.001367  0.002443 -0.001212  0.001514   \n",
      "473  0.000234  0.000020  ...  0.001306 -0.000992  0.000066  0.000347   \n",
      "\n",
      "          171       172       173       174       175       176  \n",
      "0    0.000611 -0.000023  0.000693 -0.000518  0.000408 -0.001653  \n",
      "1    0.000600  0.000256  0.000956 -0.000734 -0.000167 -0.001626  \n",
      "2    0.000577  0.000391  0.000710 -0.000287 -0.000312 -0.001743  \n",
      "3    0.000073  0.000032  0.000521  0.000374  0.000225 -0.002018  \n",
      "4    0.000572 -0.000645  0.000255  0.000388 -0.001070 -0.001789  \n",
      "..        ...       ...       ...       ...       ...       ...  \n",
      "469  0.000132 -0.000394  0.000689 -0.000041 -0.000829 -0.001774  \n",
      "470  0.001238 -0.000886  0.000783  0.000127 -0.000285 -0.001398  \n",
      "471 -0.000093 -0.000664  0.000527 -0.000344  0.000025 -0.000835  \n",
      "472 -0.000209 -0.001598  0.000980 -0.000810  0.001012 -0.000023  \n",
      "473 -0.000504 -0.000305  0.000712 -0.000496 -0.000561 -0.000248  \n",
      "\n",
      "[474 rows x 177 columns]\n"
     ]
    }
   ],
   "source": [
    "print(df_new)\n",
    "file_path2 = 'elbow_avg_output_sample0_structure.csv'\n",
    "df_new.to_csv(file_path2, index=False)"
   ]
  }
 ],
 "metadata": {
  "kernelspec": {
   "display_name": "Python 3 (ipykernel)",
   "language": "python",
   "name": "python3"
  },
  "language_info": {
   "codemirror_mode": {
    "name": "ipython",
    "version": 3
   },
   "file_extension": ".py",
   "mimetype": "text/x-python",
   "name": "python",
   "nbconvert_exporter": "python",
   "pygments_lexer": "ipython3",
   "version": "3.10.4"
  }
 },
 "nbformat": 4,
 "nbformat_minor": 5
}
