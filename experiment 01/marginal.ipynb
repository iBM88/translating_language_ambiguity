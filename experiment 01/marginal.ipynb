{
 "cells": [
  {
   "cell_type": "code",
   "execution_count": 16,
   "id": "ce57c8cb-ce5b-4d0b-84ad-dd9842ce435b",
   "metadata": {},
   "outputs": [],
   "source": [
    "# %pip install seaborn matplotlib\n",
    "import pandas as pd\n",
    "import numpy as np\n",
    "from scipy import stats\n",
    "import matplotlib.pyplot as plt\n",
    "import seaborn as sns"
   ]
  },
  {
   "cell_type": "code",
   "execution_count": 2,
   "id": "cdda139e-6ef4-4bce-909b-fc7a39498c9b",
   "metadata": {},
   "outputs": [],
   "source": [
    "file_path = 'elbow_avg_output_sample0.csv'\n",
    "df = pd.read_csv(file_path)\n",
    "df['1'].replace({1: 'ambiguous', 2: 'ambiguous', \n",
    "                 3: 'ambiguous', 0: 'unambiguous'}, inplace=True)"
   ]
  },
  {
   "cell_type": "code",
   "execution_count": 28,
   "id": "981c95f5-0306-449f-9ccf-ec424943d2e4",
   "metadata": {},
   "outputs": [],
   "source": [
    "mx = df['4'].unique()[0]\n",
    "for lang in df['2'].unique():\n",
    "    filtered = df[(df['2'] == lang) & (df['4'] == mx)]\n",
    "    filtered = filtered.drop(columns=['0','2','4'])\n",
    "    filtered_amb = filtered[filtered['1'] == 'ambiguous']\n",
    "    filtered_unamb = filtered[filtered['1'] == 'unambiguous']\n",
    "    ttest = stats.ttest_ind(filtered_amb.iloc[:,1].values, \n",
    "                            filtered_unamb.iloc[:,1].values, trim=.2)\n",
    "    \n",
    "    plt.clf()\n",
    "    sns.violinplot(x=\"1\", y=\"3\", data=filtered)  \n",
    "    formatted_statistic = f\"{ttest.statistic:.3f}\"\n",
    "    formatted_pvalue = f\"{ttest.pvalue:.3f}\"\n",
    "    plt.title(f\"{lang}\\nT-test:{formatted_statistic}\\n(pvalue:{formatted_pvalue})\")\n",
    "    plt.xlabel(\"Ambiguity\")\n",
    "    plt.ylabel(\"Error\")\n",
    "    plt.show()\n",
    "    plt.savefig(f\"violin_{lang}.png\")"
   ]
  }
 ],
 "metadata": {
  "kernelspec": {
   "display_name": "Python 3 (ipykernel)",
   "language": "python",
   "name": "python3"
  },
  "language_info": {
   "codemirror_mode": {
    "name": "ipython",
    "version": 3
   },
   "file_extension": ".py",
   "mimetype": "text/x-python",
   "name": "python",
   "nbconvert_exporter": "python",
   "pygments_lexer": "ipython3",
   "version": "3.10.4"
  }
 },
 "nbformat": 4,
 "nbformat_minor": 5
}
